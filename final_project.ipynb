{
  "metadata": {
    "kernelspec": {
      "name": "python",
      "display_name": "Python (Pyodide)",
      "language": "python"
    },
    "language_info": {
      "codemirror_mode": {
        "name": "python",
        "version": 3
      },
      "file_extension": ".py",
      "mimetype": "text/x-python",
      "name": "python",
      "nbconvert_exporter": "python",
      "pygments_lexer": "ipython3",
      "version": "3.8"
    }
  },
  "nbformat_minor": 4,
  "nbformat": 4,
  "cells": [
    {
      "cell_type": "markdown",
      "source": "",
      "metadata": {}
    },
    {
      "cell_type": "markdown",
      "source": "This project demonstrates various data science concepts and tools",
      "metadata": {}
    },
    {
      "cell_type": "markdown",
      "source": "Here are some popular data science languages:\n1. Python, \n2. R,\n3. SQL",
      "metadata": {}
    },
    {
      "cell_type": "markdown",
      "source": "Here are some common data science libraries:\n1. Pandas,\n2. NumPy,\n3. Scikit-learn",
      "metadata": {}
    },
    {
      "cell_type": "markdown",
      "source": "<h1>Table</h1>\n",
      "metadata": {}
    },
    {
      "cell_type": "markdown",
      "source": "|    Tool    |           |         Description           |\n|------------|           |-------------------------------|\n| Jupyter    |           | Interactive notebook interface|\n| RStudio    |           | IDE for R                     |\n| TensorFlow |           | Machine Learning Framework    |",
      "metadata": {}
    },
    {
      "cell_type": "markdown",
      "source": "The following cells demonstrate arithmetic expressions.",
      "metadata": {}
    },
    {
      "cell_type": "code",
      "source": "result = (3 * 4) + 5\nprint(result)",
      "metadata": {
        "trusted": true
      },
      "outputs": [
        {
          "name": "stdout",
          "text": "17\n",
          "output_type": "stream"
        }
      ],
      "execution_count": 1
    },
    {
      "cell_type": "markdown",
      "source": "The objectives of this project are as follows:\n- Learn data science concepts\n- Explore common tools and libraries\n- Perform basic arithmetic operations",
      "metadata": {}
    },
    {
      "cell_type": "markdown",
      "source": "Author: Bridgit",
      "metadata": {}
    },
    {
      "cell_type": "code",
      "source": "hours = 200 / 60\nprint(hours)\n",
      "metadata": {
        "trusted": true
      },
      "outputs": [
        {
          "name": "stdout",
          "text": "3.3333333333333335\n",
          "output_type": "stream"
        }
      ],
      "execution_count": 2
    }
  ]
}